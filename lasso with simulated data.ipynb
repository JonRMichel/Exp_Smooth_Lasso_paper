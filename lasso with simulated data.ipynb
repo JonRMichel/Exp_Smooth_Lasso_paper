{
 "cells": [
  {
   "cell_type": "code",
   "execution_count": 1,
   "metadata": {},
   "outputs": [],
   "source": [
    "import numpy as np\n",
    "import pandas as pd\n",
    "import matplotlib.pyplot as plt"
   ]
  },
  {
   "cell_type": "code",
   "execution_count": 152,
   "metadata": {},
   "outputs": [],
   "source": [
    "sample_size = 30\n",
    "sim_count = 50\n",
    "\n",
    "simulated_data = pd.DataFrame(columns = range(0,sample_size))\n",
    "simulated_level = pd.DataFrame(columns = range(0,sample_size))\n",
    "\n",
    "for sim in range(0,sim_count):\n",
    "#     alpha = np.random.uniform(0,.95)\n",
    "    alpha = .15\n",
    "    simulated_level.loc[sim,0] = np.random.normal(0,1)\n",
    "    simulated_data.loc[sim,0] = np.random.normal(0,1)\n",
    "    \n",
    "    for time in range(1, sample_size):\n",
    "        ep = np.random.normal(0,1)\n",
    "        simulated_data.loc[sim,time] = simulated_level.loc[sim,time-1] + ep\n",
    "        simulated_level.loc[sim,time] = simulated_level.loc[sim,time-1] + (1-alpha)*ep"
   ]
  },
  {
   "cell_type": "code",
   "execution_count": 153,
   "metadata": {},
   "outputs": [],
   "source": [
    "def exp_smooth(Y,alpha):\n",
    "    smooth = [Y[0]]\n",
    "    for t in range(1, len(Y)):\n",
    "        smooth.append( (1-alpha)*Y[t] + (alpha)* smooth[t-1])    \n",
    "    return smooth\n",
    "\n",
    "def objective(Y,alpha,penalty):\n",
    "    data = pd.DataFrame({'Y':Y, 'est':exp_smooth(Y,alpha)})\n",
    "    data['est'] = data['est'].shift(1)\n",
    "    data = data.dropna()\n",
    "    \n",
    "    sum_squares = np.square(data['Y'] - data['est']).sum() + penalty*abs(alpha)\n",
    "    return sum_squares\n",
    "\n",
    "def minimal_alpha(Y, penalty, grid_size):\n",
    "    alphas = np.linspace(0,1,grid_size)\n",
    "    \n",
    "    min_alpha = 0.0\n",
    "    min_obj = np.square( np.diff( np.array(Y)) ).sum()\n",
    "    \n",
    "    for alpha in alphas:\n",
    "        sum_squares = 0.0\n",
    "        forecast = Y[0]\n",
    "        \n",
    "        for t in range(1, len(Y)):\n",
    "            sum_squares = sum_squares + np.square(Y[t]-forecast)\n",
    "            forecast = (1-alpha)*Y[t] + alpha*forecast\n",
    "        \n",
    "        obj = sum_squares + penalty*alpha\n",
    "        \n",
    "        if obj < min_obj:\n",
    "            min_alpha = alpha\n",
    "            min_obj = obj\n",
    "            \n",
    "    return min_alpha"
   ]
  },
  {
   "cell_type": "markdown",
   "metadata": {},
   "source": [
    "# Alpha SES for all data"
   ]
  },
  {
   "cell_type": "code",
   "execution_count": 154,
   "metadata": {},
   "outputs": [
    {
     "data": {
      "text/plain": [
       "array([[<matplotlib.axes._subplots.AxesSubplot object at 0x000002871C44A340>]],\n",
       "      dtype=object)"
      ]
     },
     "execution_count": 154,
     "metadata": {},
     "output_type": "execute_result"
    },
    {
     "data": {
      "image/png": "[encoded data removed]",
      "text/plain": [
       "<Figure size 432x288 with 1 Axes>"
      ]
     },
     "metadata": {
      "needs_background": "light"
     },
     "output_type": "display_data"
    }
   ],
   "source": [
    "min_alphas = []\n",
    "\n",
    "for index in simulated_data.index:\n",
    "    ts = simulated_data.loc[index].values\n",
    "    min_alphas.append( minimal_alpha(ts,0.0, 50) )\n",
    "    \n",
    "pd.DataFrame(min_alphas).hist()"
   ]
  },
  {
   "cell_type": "markdown",
   "metadata": {},
   "source": [
    "## Analysis for all series"
   ]
  },
  {
   "cell_type": "code",
   "execution_count": 155,
   "metadata": {},
   "outputs": [
    {
     "name": "stdout",
     "output_type": "stream",
     "text": [
      "0.4\n",
      "0.7\n"
     ]
    }
   ],
   "source": [
    "test_df = pd.DataFrame(columns = ['ses','lasso','ses_sse','lasso_sse'])\n",
    "\n",
    "for series in simulated_data.index:\n",
    "    Y = simulated_data.loc[series].values\n",
    "    sample_size = len(Y)\n",
    "    \n",
    "    train_index = range(0, round(sample_size/2.0) )\n",
    "    test_index = range(round(sample_size/2.0), sample_size)\n",
    "    \n",
    "    Y_train = Y[train_index]\n",
    "    Y_test = Y[test_index]\n",
    "    \n",
    "    penalty = 2.5\n",
    "    \n",
    "    alpha_ses = minimal_alpha(Y, 0.0, 200)\n",
    "    alpha_lasso = minimal_alpha(Y,penalty, 200)\n",
    "    \n",
    "    sse_list = []\n",
    "    \n",
    "    for alpha in [alpha_ses, alpha_lasso]:\n",
    "        exp_df = pd.DataFrame({'Y':Y,'exp':exp_smooth(Y,alpha)})\n",
    "        exp_df['exp'] = exp_df['exp'].shift(1) \n",
    "        exp_df = exp_df.reset_index()\n",
    "        test_sse = np.square(exp_df.loc[test_index]['Y'] - exp_df.loc[test_index]['exp']).sum()\n",
    "        sse_list.append(test_sse)\n",
    "    \n",
    "    test_df.loc[series,'ses'] = alpha_ses\n",
    "    test_df.loc[series,'lasso'] = alpha_lasso\n",
    "    test_df.loc[series,'ses_sse'] = sse_list[0]\n",
    "    test_df.loc[series,'lasso_sse'] = sse_list[1]\n",
    "    \n",
    "print( len(test_df.query('lasso_sse < ses_sse'))/len(test_df))\n",
    "print( len(test_df.query('lasso_sse <= ses_sse'))/len(test_df))"
   ]
  },
  {
   "cell_type": "code",
   "execution_count": 156,
   "metadata": {},
   "outputs": [
    {
     "data": {
      "text/html": [
       "<div>\n",
       "<style scoped>\n",
       "    .dataframe tbody tr th:only-of-type {\n",
       "        vertical-align: middle;\n",
       "    }\n",
       "\n",
       "    .dataframe tbody tr th {\n",
       "        vertical-align: top;\n",
       "    }\n",
       "\n",
       "    .dataframe thead th {\n",
       "        text-align: right;\n",
       "    }\n",
       "</style>\n",
       "<table border=\"1\" class=\"dataframe\">\n",
       "  <thead>\n",
       "    <tr style=\"text-align: right;\">\n",
       "      <th></th>\n",
       "      <th>ses</th>\n",
       "      <th>lasso</th>\n",
       "      <th>ses_sse</th>\n",
       "      <th>lasso_sse</th>\n",
       "    </tr>\n",
       "  </thead>\n",
       "  <tbody>\n",
       "    <tr>\n",
       "      <th>3</th>\n",
       "      <td>0</td>\n",
       "      <td>0</td>\n",
       "      <td>15.7053</td>\n",
       "      <td>15.7053</td>\n",
       "    </tr>\n",
       "    <tr>\n",
       "      <th>16</th>\n",
       "      <td>0</td>\n",
       "      <td>0</td>\n",
       "      <td>14.4924</td>\n",
       "      <td>14.4924</td>\n",
       "    </tr>\n",
       "    <tr>\n",
       "      <th>17</th>\n",
       "      <td>0</td>\n",
       "      <td>0</td>\n",
       "      <td>16.6487</td>\n",
       "      <td>16.6487</td>\n",
       "    </tr>\n",
       "    <tr>\n",
       "      <th>18</th>\n",
       "      <td>0</td>\n",
       "      <td>0</td>\n",
       "      <td>3.86285</td>\n",
       "      <td>3.86285</td>\n",
       "    </tr>\n",
       "    <tr>\n",
       "      <th>21</th>\n",
       "      <td>0</td>\n",
       "      <td>0</td>\n",
       "      <td>11.466</td>\n",
       "      <td>11.466</td>\n",
       "    </tr>\n",
       "    <tr>\n",
       "      <th>24</th>\n",
       "      <td>0</td>\n",
       "      <td>0</td>\n",
       "      <td>11.6545</td>\n",
       "      <td>11.6545</td>\n",
       "    </tr>\n",
       "    <tr>\n",
       "      <th>26</th>\n",
       "      <td>0</td>\n",
       "      <td>0</td>\n",
       "      <td>18.9841</td>\n",
       "      <td>18.9841</td>\n",
       "    </tr>\n",
       "    <tr>\n",
       "      <th>32</th>\n",
       "      <td>0</td>\n",
       "      <td>0</td>\n",
       "      <td>15.0765</td>\n",
       "      <td>15.0765</td>\n",
       "    </tr>\n",
       "    <tr>\n",
       "      <th>35</th>\n",
       "      <td>0</td>\n",
       "      <td>0</td>\n",
       "      <td>18.1049</td>\n",
       "      <td>18.1049</td>\n",
       "    </tr>\n",
       "    <tr>\n",
       "      <th>36</th>\n",
       "      <td>0</td>\n",
       "      <td>0</td>\n",
       "      <td>14.0562</td>\n",
       "      <td>14.0562</td>\n",
       "    </tr>\n",
       "    <tr>\n",
       "      <th>37</th>\n",
       "      <td>0</td>\n",
       "      <td>0</td>\n",
       "      <td>7.82936</td>\n",
       "      <td>7.82936</td>\n",
       "    </tr>\n",
       "    <tr>\n",
       "      <th>38</th>\n",
       "      <td>0</td>\n",
       "      <td>0</td>\n",
       "      <td>13.8093</td>\n",
       "      <td>13.8093</td>\n",
       "    </tr>\n",
       "    <tr>\n",
       "      <th>43</th>\n",
       "      <td>0</td>\n",
       "      <td>0</td>\n",
       "      <td>11.217</td>\n",
       "      <td>11.217</td>\n",
       "    </tr>\n",
       "    <tr>\n",
       "      <th>44</th>\n",
       "      <td>0</td>\n",
       "      <td>0</td>\n",
       "      <td>7.25768</td>\n",
       "      <td>7.25768</td>\n",
       "    </tr>\n",
       "    <tr>\n",
       "      <th>48</th>\n",
       "      <td>0</td>\n",
       "      <td>0</td>\n",
       "      <td>9.56578</td>\n",
       "      <td>9.56578</td>\n",
       "    </tr>\n",
       "  </tbody>\n",
       "</table>\n",
       "</div>"
      ],
      "text/plain": [
       "   ses lasso  ses_sse lasso_sse\n",
       "3    0     0  15.7053   15.7053\n",
       "16   0     0  14.4924   14.4924\n",
       "17   0     0  16.6487   16.6487\n",
       "18   0     0  3.86285   3.86285\n",
       "21   0     0   11.466    11.466\n",
       "24   0     0  11.6545   11.6545\n",
       "26   0     0  18.9841   18.9841\n",
       "32   0     0  15.0765   15.0765\n",
       "35   0     0  18.1049   18.1049\n",
       "36   0     0  14.0562   14.0562\n",
       "37   0     0  7.82936   7.82936\n",
       "38   0     0  13.8093   13.8093\n",
       "43   0     0   11.217    11.217\n",
       "44   0     0  7.25768   7.25768\n",
       "48   0     0  9.56578   9.56578"
      ]
     },
     "execution_count": 156,
     "metadata": {},
     "output_type": "execute_result"
    }
   ],
   "source": [
    "test_df.query('ses_sse == lasso_sse')"
   ]
  },
  {
   "cell_type": "markdown",
   "metadata": {},
   "source": [
    "# Values across various Alpha"
   ]
  },
  {
   "cell_type": "code",
   "execution_count": 194,
   "metadata": {},
   "outputs": [],
   "source": [
    "outcome_df = pd.DataFrame(columns = ['alpha','penalty', '<','<=','sse_ratio'])    \n",
    "sample_size = 20\n",
    "sim_count = 1000\n",
    "i=0\n",
    "\n",
    "for alpha_sim in np.linspace(.05, .95, 5):\n",
    "    simulated_data = pd.DataFrame(columns = range(0,sample_size))\n",
    "    simulated_level = pd.DataFrame(columns = range(0,sample_size))\n",
    "\n",
    "    for sim in range(0,sim_count):\n",
    "        alpha = alpha_sim\n",
    "        simulated_level.loc[sim,0] = np.random.normal(0,1)\n",
    "        simulated_data.loc[sim,0] = np.random.normal(0,1)\n",
    "\n",
    "        for time in range(1, sample_size):\n",
    "            ep = np.random.normal(0,1)\n",
    "            simulated_data.loc[sim,time] = simulated_level.loc[sim,time-1] + ep\n",
    "            simulated_level.loc[sim,time] = simulated_level.loc[sim,time-1] + (1-alpha)*ep\n",
    "\n",
    "    for penalty in np.linspace(0.0, 4.0, 9):\n",
    "        test_df = pd.DataFrame(columns = ['ses','lasso','ses_sse','lasso_sse'])\n",
    "\n",
    "        for series in simulated_data.index:\n",
    "            Y = simulated_data.loc[series].values\n",
    "            sample_size = len(Y)\n",
    "\n",
    "            train_index = range(0, round(sample_size/2.0) )\n",
    "            test_index = range(round(sample_size/2.0), sample_size)\n",
    "\n",
    "            Y_train = Y[train_index]\n",
    "            Y_test = Y[test_index]\n",
    "\n",
    "\n",
    "            alpha_ses = minimal_alpha(Y, 0.0, 200)\n",
    "            alpha_lasso = minimal_alpha(Y,penalty, 200)\n",
    "\n",
    "            sse_list = []\n",
    "\n",
    "            for alpha in [alpha_ses, alpha_lasso]:\n",
    "                exp_df = pd.DataFrame({'Y':Y,'exp':exp_smooth(Y,alpha)})\n",
    "                exp_df['exp'] = exp_df['exp'].shift(1) \n",
    "                exp_df = exp_df.reset_index()\n",
    "                test_sse = np.square(exp_df.loc[test_index]['Y'] - exp_df.loc[test_index]['exp']).sum()\n",
    "                sse_list.append(test_sse)\n",
    "\n",
    "            test_df.loc[series,'ses'] = alpha_ses\n",
    "            test_df.loc[series,'lasso'] = alpha_lasso\n",
    "            test_df.loc[series,'ses_sse'] = sse_list[0]\n",
    "            test_df.loc[series,'lasso_sse'] = sse_list[1]\n",
    "\n",
    "        outcome_df.loc[i,'<'] =  len(test_df.query('lasso_sse < ses_sse'))/len(test_df)\n",
    "        outcome_df.loc[i,'<='] =  len(test_df.query('lasso_sse <= ses_sse'))/len(test_df)\n",
    "        outcome_df.loc[i,'sse_ratio'] = np.mean((test_df['lasso_sse'] - test_df['ses_sse'])/test_df['ses_sse'])\n",
    "        outcome_df.loc[i,'penalty'] = penalty\n",
    "        outcome_df.loc[i,'alpha'] = alpha_sim\n",
    "        i = i+1"
   ]
  },
  {
   "cell_type": "code",
   "execution_count": 200,
   "metadata": {},
   "outputs": [
    {
     "data": {
      "text/plain": [
       "Text(0.5, 1.0, 'Percent weakly improved by Lasso plotted against lambda for various alpha')"
      ]
     },
     "execution_count": 200,
     "metadata": {},
     "output_type": "execute_result"
    },
    {
     "data": {
      "image/png": "[encoded data removed]",
      "text/plain": [
       "<Figure size 1296x432 with 2 Axes>"
      ]
     },
     "metadata": {
      "needs_background": "light"
     },
     "output_type": "display_data"
    }
   ],
   "source": [
    "fig, [ax1,ax2] = plt.subplots(1,2, figsize = (18,6))\n",
    "\n",
    "for a_val in outcome_df['alpha'].unique():\n",
    "    outcome_df.query('alpha == @a_val').set_index('penalty')['<'].plot(ax = ax1)\n",
    "    outcome_df.query('alpha == @a_val').set_index('penalty')['<='].plot(ax = ax2)\n",
    "\n",
    "ax1.legend(outcome_df['alpha'].unique())\n",
    "ax2.legend(outcome_df['alpha'].unique())\n",
    "\n",
    "ax1.set_title('Percent strictly improved by Lasso plotted against lambda for various alpha')\n",
    "ax2.set_title('Percent weakly improved by Lasso plotted against lambda for various alpha')"
   ]
  },
  {
   "cell_type": "markdown",
   "metadata": {},
   "source": [
    "# Misspecified model, AR(1)"
   ]
  },
  {
   "cell_type": "code",
   "execution_count": 190,
   "metadata": {},
   "outputs": [],
   "source": [
    "ar_outcome_df = pd.DataFrame(columns = ['alpha','penalty', '<','<=','sse_ratio'])    \n",
    "sample_size = 20\n",
    "sim_count = 100\n",
    "omega = 1.0\n",
    "i=0\n",
    "\n",
    "for alpha_sim in np.linspace(.05, .95, 5):\n",
    "    simulated_data = pd.DataFrame(columns = range(0,sample_size))\n",
    "\n",
    "    for sim in range(0,sim_count):\n",
    "        alpha = alpha_sim\n",
    "        simulated_data.loc[sim,0] =  np.random.normal(0,1) \n",
    "\n",
    "        for time in range(1, sample_size):\n",
    "            ep = np.random.normal(0,1)\n",
    "            simulated_data.loc[sim,time] = omega + alpha *simulated_data.loc[sim,time-1] + ep\n",
    "\n",
    "    for penalty in np.linspace(0.0, 4.0, 9):\n",
    "        test_df = pd.DataFrame(columns = ['ses','lasso','ses_sse','lasso_sse'])\n",
    "\n",
    "        for series in simulated_data.index:\n",
    "            Y = simulated_data.loc[series].values\n",
    "            sample_size = len(Y)\n",
    "\n",
    "            train_index = range(0, round(sample_size/2.0) )\n",
    "            test_index = range(round(sample_size/2.0), sample_size)\n",
    "\n",
    "            Y_train = Y[train_index]\n",
    "            Y_test = Y[test_index]\n",
    "\n",
    "\n",
    "            alpha_ses = minimal_alpha(Y, 0.0, 200)\n",
    "            alpha_lasso = minimal_alpha(Y,penalty, 200)\n",
    "\n",
    "            sse_list = []\n",
    "\n",
    "            for alpha in [alpha_ses, alpha_lasso]:\n",
    "                exp_df = pd.DataFrame({'Y':Y,'exp':exp_smooth(Y,alpha)})\n",
    "                exp_df['exp'] = exp_df['exp'].shift(1) \n",
    "                exp_df = exp_df.reset_index()\n",
    "                test_sse = np.square(exp_df.loc[test_index]['Y'] - exp_df.loc[test_index]['exp']).sum()\n",
    "                sse_list.append(test_sse)\n",
    "\n",
    "            test_df.loc[series,'ses'] = alpha_ses\n",
    "            test_df.loc[series,'lasso'] = alpha_lasso\n",
    "            test_df.loc[series,'ses_sse'] = sse_list[0]\n",
    "            test_df.loc[series,'lasso_sse'] = sse_list[1]\n",
    "\n",
    "        ar_outcome_df.loc[i,'<'] =  len(test_df.query('lasso_sse < ses_sse'))/len(test_df)\n",
    "        ar_outcome_df.loc[i,'<='] =  len(test_df.query('lasso_sse <= ses_sse'))/len(test_df)\n",
    "        ar_outcome_df.loc[i,'sse_ratio'] = np.mean((test_df['lasso_sse'] - test_df['ses_sse'])/test_df['ses_sse'])\n",
    "        ar_outcome_df.loc[i,'penalty'] = penalty\n",
    "        ar_outcome_df.loc[i,'alpha'] = alpha_sim\n",
    "        i = i+1"
   ]
  },
  {
   "cell_type": "code",
   "execution_count": 201,
   "metadata": {},
   "outputs": [
    {
     "ename": "NameError",
     "evalue": "name 'ar_outcome_df' is not defined",
     "output_type": "error",
     "traceback": [
      "\u001b[1;31m---------------------------------------------------------------------------\u001b[0m",
      "\u001b[1;31mNameError\u001b[0m                                 Traceback (most recent call last)",
      "\u001b[1;32m<ipython-input-201-ee307e84b85e>\u001b[0m in \u001b[0;36m<module>\u001b[1;34m\u001b[0m\n\u001b[0;32m      1\u001b[0m \u001b[0mfig\u001b[0m\u001b[1;33m,\u001b[0m \u001b[1;33m[\u001b[0m\u001b[0max1\u001b[0m\u001b[1;33m,\u001b[0m\u001b[0max2\u001b[0m\u001b[1;33m]\u001b[0m \u001b[1;33m=\u001b[0m \u001b[0mplt\u001b[0m\u001b[1;33m.\u001b[0m\u001b[0msubplots\u001b[0m\u001b[1;33m(\u001b[0m\u001b[1;36m1\u001b[0m\u001b[1;33m,\u001b[0m\u001b[1;36m2\u001b[0m\u001b[1;33m,\u001b[0m \u001b[0mfigsize\u001b[0m \u001b[1;33m=\u001b[0m \u001b[1;33m(\u001b[0m\u001b[1;36m18\u001b[0m\u001b[1;33m,\u001b[0m\u001b[1;36m6\u001b[0m\u001b[1;33m)\u001b[0m\u001b[1;33m)\u001b[0m\u001b[1;33m\u001b[0m\u001b[1;33m\u001b[0m\u001b[0m\n\u001b[0;32m      2\u001b[0m \u001b[1;33m\u001b[0m\u001b[0m\n\u001b[1;32m----> 3\u001b[1;33m \u001b[1;32mfor\u001b[0m \u001b[0ma_val\u001b[0m \u001b[1;32min\u001b[0m \u001b[0mar_outcome_df\u001b[0m\u001b[1;33m[\u001b[0m\u001b[1;34m'alpha'\u001b[0m\u001b[1;33m]\u001b[0m\u001b[1;33m.\u001b[0m\u001b[0munique\u001b[0m\u001b[1;33m(\u001b[0m\u001b[1;33m)\u001b[0m\u001b[1;33m:\u001b[0m\u001b[1;33m\u001b[0m\u001b[1;33m\u001b[0m\u001b[0m\n\u001b[0m\u001b[0;32m      4\u001b[0m     \u001b[0mar_outcome_df\u001b[0m\u001b[1;33m.\u001b[0m\u001b[0mquery\u001b[0m\u001b[1;33m(\u001b[0m\u001b[1;34m'alpha == @a_val'\u001b[0m\u001b[1;33m)\u001b[0m\u001b[1;33m.\u001b[0m\u001b[0mset_index\u001b[0m\u001b[1;33m(\u001b[0m\u001b[1;34m'penalty'\u001b[0m\u001b[1;33m)\u001b[0m\u001b[1;33m[\u001b[0m\u001b[1;34m'<'\u001b[0m\u001b[1;33m]\u001b[0m\u001b[1;33m.\u001b[0m\u001b[0mplot\u001b[0m\u001b[1;33m(\u001b[0m\u001b[0max\u001b[0m \u001b[1;33m=\u001b[0m \u001b[0max1\u001b[0m\u001b[1;33m)\u001b[0m\u001b[1;33m\u001b[0m\u001b[1;33m\u001b[0m\u001b[0m\n\u001b[0;32m      5\u001b[0m     \u001b[0mar_outcome_df\u001b[0m\u001b[1;33m.\u001b[0m\u001b[0mquery\u001b[0m\u001b[1;33m(\u001b[0m\u001b[1;34m'alpha == @a_val'\u001b[0m\u001b[1;33m)\u001b[0m\u001b[1;33m.\u001b[0m\u001b[0mset_index\u001b[0m\u001b[1;33m(\u001b[0m\u001b[1;34m'penalty'\u001b[0m\u001b[1;33m)\u001b[0m\u001b[1;33m[\u001b[0m\u001b[1;34m'<='\u001b[0m\u001b[1;33m]\u001b[0m\u001b[1;33m.\u001b[0m\u001b[0mplot\u001b[0m\u001b[1;33m(\u001b[0m\u001b[0max\u001b[0m \u001b[1;33m=\u001b[0m \u001b[0max2\u001b[0m\u001b[1;33m)\u001b[0m\u001b[1;33m\u001b[0m\u001b[1;33m\u001b[0m\u001b[0m\n",
      "\u001b[1;31mNameError\u001b[0m: name 'ar_outcome_df' is not defined"
     ]
    },
    {
     "data": {
      "image/png": "[encoded data removed]",
      "text/plain": [
       "<Figure size 1296x432 with 2 Axes>"
      ]
     },
     "metadata": {
      "needs_background": "light"
     },
     "output_type": "display_data"
    }
   ],
   "source": [
    "fig, [ax1,ax2] = plt.subplots(1,2, figsize = (18,6))\n",
    "\n",
    "for a_val in ar_outcome_df['alpha'].unique():\n",
    "    ar_outcome_df.query('alpha == @a_val').set_index('penalty')['<'].plot(ax = ax1)\n",
    "    ar_outcome_df.query('alpha == @a_val').set_index('penalty')['<='].plot(ax = ax2)\n",
    "\n",
    "ax1.legend(ar_outcome_df['alpha'].unique())\n",
    "ax2.legend(ar_outcome_df['alpha'].unique())\n",
    "\n",
    "ax1.set_title('Percent strictly improved by Lasso plotted against lambda for various alpha')\n",
    "ax2.set_title('Percent weakly improved by Lasso plotted against lambda for various alpha')"
   ]
  },
  {
   "cell_type": "code",
   "execution_count": null,
   "metadata": {},
   "outputs": [],
   "source": []
  }
 ],
 "metadata": {
  "kernelspec": {
   "display_name": "Python 3",
   "language": "python",
   "name": "python3"
  },
  "language_info": {
   "codemirror_mode": {
    "name": "ipython",
    "version": 3
   },
   "file_extension": ".py",
   "mimetype": "text/x-python",
   "name": "python",
   "nbconvert_exporter": "python",
   "pygments_lexer": "ipython3",
   "version": "3.8.3"
  }
 },
 "nbformat": 4,
 "nbformat_minor": 4
}
